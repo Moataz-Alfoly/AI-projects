{
 "cells": [
  {
   "cell_type": "markdown",
   "id": "476c2466",
   "metadata": {},
   "source": [
    "# Install and Import Dependencies"
   ]
  },
  {
   "cell_type": "code",
   "execution_count": 1,
   "id": "996c62dc",
   "metadata": {},
   "outputs": [
    {
     "name": "stdout",
     "output_type": "stream",
     "text": [
      "Requirement already satisfied: pixellib in c:\\anaconda\\lib\\site-packages (0.7.1)\n",
      "Requirement already satisfied: opencv-python in c:\\anaconda\\lib\\site-packages (4.7.0.72)\n",
      "Requirement already satisfied: matplotlib in c:\\anaconda\\lib\\site-packages (from pixellib) (3.8.3)\n",
      "Requirement already satisfied: scikit-image in c:\\anaconda\\lib\\site-packages (from pixellib) (0.19.2)\n",
      "Requirement already satisfied: omegaconf in c:\\anaconda\\lib\\site-packages (from pixellib) (2.3.0)\n",
      "Requirement already satisfied: imantics in c:\\anaconda\\lib\\site-packages (from pixellib) (0.1.12)\n",
      "Requirement already satisfied: tqdm in c:\\anaconda\\lib\\site-packages (from pixellib) (4.64.1)\n",
      "Requirement already satisfied: dataclasses in c:\\anaconda\\lib\\site-packages (from pixellib) (0.6)\n",
      "Requirement already satisfied: hydra-core in c:\\anaconda\\lib\\site-packages (from pixellib) (1.3.2)\n",
      "Requirement already satisfied: cloudpickle in c:\\anaconda\\lib\\site-packages (from pixellib) (2.0.0)\n",
      "Requirement already satisfied: pydot in c:\\anaconda\\lib\\site-packages (from pixellib) (2.0.0)\n",
      "Requirement already satisfied: fvcore in c:\\anaconda\\lib\\site-packages (from pixellib) (0.1.5.post20221221)\n",
      "Requirement already satisfied: imgaug in c:\\anaconda\\lib\\site-packages (from pixellib) (0.4.0)\n",
      "Requirement already satisfied: labelme2coco in c:\\anaconda\\lib\\site-packages (from pixellib) (0.2.4)\n",
      "Requirement already satisfied: black in c:\\anaconda\\lib\\site-packages (from pixellib) (22.6.0)\n",
      "Requirement already satisfied: termcolor in c:\\anaconda\\lib\\site-packages (from pixellib) (2.3.0)\n",
      "Requirement already satisfied: pyQt5 in c:\\anaconda\\lib\\site-packages (from pixellib) (5.15.10)\n",
      "Requirement already satisfied: iopath in c:\\anaconda\\lib\\site-packages (from pixellib) (0.1.10)\n",
      "Requirement already satisfied: future in c:\\anaconda\\lib\\site-packages (from pixellib) (0.18.2)\n",
      "Requirement already satisfied: yacs in c:\\anaconda\\lib\\site-packages (from pixellib) (0.1.8)\n",
      "Requirement already satisfied: Cython in c:\\anaconda\\lib\\site-packages (from pixellib) (0.29.32)\n",
      "Requirement already satisfied: tabulate in c:\\anaconda\\lib\\site-packages (from pixellib) (0.8.10)\n",
      "Requirement already satisfied: pillow in c:\\anaconda\\lib\\site-packages (from pixellib) (9.2.0)\n",
      "Requirement already satisfied: numpy>=1.17.0 in c:\\anaconda\\lib\\site-packages (from opencv-python) (1.24.3)\n",
      "Requirement already satisfied: click>=8.0.0 in c:\\anaconda\\lib\\site-packages (from black->pixellib) (8.0.4)\n",
      "Requirement already satisfied: typing-extensions>=3.10.0.0 in c:\\anaconda\\lib\\site-packages (from black->pixellib) (4.9.0)\n",
      "Requirement already satisfied: pathspec>=0.9.0 in c:\\anaconda\\lib\\site-packages (from black->pixellib) (0.9.0)\n",
      "Requirement already satisfied: platformdirs>=2 in c:\\anaconda\\lib\\site-packages (from black->pixellib) (2.5.2)\n",
      "Requirement already satisfied: mypy-extensions>=0.4.3 in c:\\anaconda\\lib\\site-packages (from black->pixellib) (0.4.3)\n",
      "Requirement already satisfied: tomli>=1.1.0 in c:\\anaconda\\lib\\site-packages (from black->pixellib) (2.0.1)\n",
      "Requirement already satisfied: pyyaml>=5.1 in c:\\anaconda\\lib\\site-packages (from fvcore->pixellib) (6.0)\n",
      "Requirement already satisfied: portalocker in c:\\anaconda\\lib\\site-packages (from iopath->pixellib) (2.8.2)\n",
      "Requirement already satisfied: packaging in c:\\anaconda\\lib\\site-packages (from hydra-core->pixellib) (23.2)\n",
      "Requirement already satisfied: antlr4-python3-runtime==4.9.* in c:\\anaconda\\lib\\site-packages (from hydra-core->pixellib) (4.9.3)\n",
      "Requirement already satisfied: xmljson in c:\\anaconda\\lib\\site-packages (from imantics->pixellib) (0.2.1)\n",
      "Requirement already satisfied: lxml in c:\\anaconda\\lib\\site-packages (from imantics->pixellib) (4.9.1)\n",
      "Requirement already satisfied: imageio in c:\\anaconda\\lib\\site-packages (from imgaug->pixellib) (2.19.3)\n",
      "Requirement already satisfied: six in c:\\anaconda\\lib\\site-packages (from imgaug->pixellib) (1.16.0)\n",
      "Requirement already satisfied: scipy in c:\\anaconda\\lib\\site-packages (from imgaug->pixellib) (1.12.0)\n",
      "Requirement already satisfied: Shapely in c:\\anaconda\\lib\\site-packages (from imgaug->pixellib) (2.0.2)\n",
      "Requirement already satisfied: PyWavelets>=1.1.1 in c:\\anaconda\\lib\\site-packages (from scikit-image->pixellib) (1.3.0)\n",
      "Requirement already satisfied: networkx>=2.2 in c:\\anaconda\\lib\\site-packages (from scikit-image->pixellib) (2.8.4)\n",
      "Requirement already satisfied: tifffile>=2019.7.26 in c:\\anaconda\\lib\\site-packages (from scikit-image->pixellib) (2021.7.2)\n",
      "Requirement already satisfied: jsonschema>=2.6.0 in c:\\anaconda\\lib\\site-packages (from labelme2coco->pixellib) (4.16.0)\n",
      "Requirement already satisfied: sahi>=0.8.19 in c:\\anaconda\\lib\\site-packages (from labelme2coco->pixellib) (0.11.15)\n",
      "Requirement already satisfied: cycler>=0.10 in c:\\anaconda\\lib\\site-packages (from matplotlib->pixellib) (0.10.0)\n",
      "Requirement already satisfied: pyparsing>=2.3.1 in c:\\anaconda\\lib\\site-packages (from matplotlib->pixellib) (3.0.9)\n",
      "Requirement already satisfied: fonttools>=4.22.0 in c:\\anaconda\\lib\\site-packages (from matplotlib->pixellib) (4.25.0)\n",
      "Requirement already satisfied: contourpy>=1.0.1 in c:\\anaconda\\lib\\site-packages (from matplotlib->pixellib) (1.2.0)\n",
      "Requirement already satisfied: importlib-resources>=3.2.0 in c:\\anaconda\\lib\\site-packages (from matplotlib->pixellib) (6.1.1)\n",
      "Requirement already satisfied: python-dateutil>=2.7 in c:\\anaconda\\lib\\site-packages (from matplotlib->pixellib) (2.8.2)\n",
      "Requirement already satisfied: kiwisolver>=1.3.1 in c:\\anaconda\\lib\\site-packages (from matplotlib->pixellib) (1.4.2)\n",
      "Requirement already satisfied: PyQt5-Qt5>=5.15.2 in c:\\anaconda\\lib\\site-packages (from pyQt5->pixellib) (5.15.2)\n",
      "Requirement already satisfied: PyQt5-sip<13,>=12.13 in c:\\anaconda\\lib\\site-packages (from pyQt5->pixellib) (12.13.0)\n",
      "Requirement already satisfied: colorama in c:\\anaconda\\lib\\site-packages (from tqdm->pixellib) (0.4.5)\n",
      "Requirement already satisfied: zipp>=3.1.0 in c:\\anaconda\\lib\\site-packages (from importlib-resources>=3.2.0->matplotlib->pixellib) (3.8.0)\n",
      "Requirement already satisfied: pyrsistent!=0.17.0,!=0.17.1,!=0.17.2,>=0.14.0 in c:\\anaconda\\lib\\site-packages (from jsonschema>=2.6.0->labelme2coco->pixellib) (0.18.0)\n",
      "Requirement already satisfied: attrs>=17.4.0 in c:\\anaconda\\lib\\site-packages (from jsonschema>=2.6.0->labelme2coco->pixellib) (21.4.0)\n",
      "Requirement already satisfied: requests in c:\\anaconda\\lib\\site-packages (from sahi>=0.8.19->labelme2coco->pixellib) (2.31.0)\n",
      "Requirement already satisfied: pybboxes==0.1.6 in c:\\anaconda\\lib\\site-packages (from sahi>=0.8.19->labelme2coco->pixellib) (0.1.6)\n",
      "Requirement already satisfied: fire in c:\\anaconda\\lib\\site-packages (from sahi>=0.8.19->labelme2coco->pixellib) (0.5.0)\n",
      "Requirement already satisfied: terminaltables in c:\\anaconda\\lib\\site-packages (from sahi>=0.8.19->labelme2coco->pixellib) (3.1.10)\n",
      "Requirement already satisfied: pywin32>=226 in c:\\anaconda\\lib\\site-packages (from portalocker->iopath->pixellib) (302)\n",
      "Requirement already satisfied: idna<4,>=2.5 in c:\\anaconda\\lib\\site-packages (from requests->sahi>=0.8.19->labelme2coco->pixellib) (2.10)\n",
      "Requirement already satisfied: charset-normalizer<4,>=2 in c:\\anaconda\\lib\\site-packages (from requests->sahi>=0.8.19->labelme2coco->pixellib) (2.0.4)\n",
      "Requirement already satisfied: urllib3<3,>=1.21.1 in c:\\anaconda\\lib\\site-packages (from requests->sahi>=0.8.19->labelme2coco->pixellib) (1.26.11)\n",
      "Requirement already satisfied: certifi>=2017.4.17 in c:\\anaconda\\lib\\site-packages (from requests->sahi>=0.8.19->labelme2coco->pixellib) (2023.7.22)\n",
      "Note: you may need to restart the kernel to use updated packages.\n"
     ]
    }
   ],
   "source": [
    "pip install pixellib opencv-python"
   ]
  },
  {
   "cell_type": "code",
   "execution_count": 2,
   "id": "956826d3",
   "metadata": {},
   "outputs": [
    {
     "name": "stdout",
     "output_type": "stream",
     "text": [
      "Requirement already satisfied: pyqt5 in c:\\anaconda\\lib\\site-packages (5.15.10)\n",
      "Requirement already satisfied: pyqtwebengine in c:\\anaconda\\lib\\site-packages (5.15.6)\n",
      "Requirement already satisfied: PyQt5-Qt5>=5.15.2 in c:\\anaconda\\lib\\site-packages (from pyqt5) (5.15.2)\n",
      "Requirement already satisfied: PyQt5-sip<13,>=12.13 in c:\\anaconda\\lib\\site-packages (from pyqt5) (12.13.0)\n",
      "Requirement already satisfied: PyQtWebEngine-Qt5>=5.15.0 in c:\\anaconda\\lib\\site-packages (from pyqtwebengine) (5.15.2)\n",
      "Note: you may need to restart the kernel to use updated packages.\n"
     ]
    }
   ],
   "source": [
    "pip install pyqt5 pyqtwebengine"
   ]
  },
  {
   "cell_type": "code",
   "execution_count": 13,
   "id": "a2be0eb8",
   "metadata": {},
   "outputs": [
    {
     "name": "stdout",
     "output_type": "stream",
     "text": [
      "WARNING:tensorflow:From C:\\Anaconda\\lib\\site-packages\\tf_keras\\src\\losses.py:2976: The name tf.losses.sparse_softmax_cross_entropy is deprecated. Please use tf.compat.v1.losses.sparse_softmax_cross_entropy instead.\n",
      "\n"
     ]
    }
   ],
   "source": [
    "import pixellib\n",
    "from pixellib.instance import instance_segmentation\n",
    "import cv2\n",
    "import tensorflow as tf\n",
    "import tensorflow_hub as hub"
   ]
  },
  {
   "cell_type": "markdown",
   "id": "cf09d7c0",
   "metadata": {},
   "source": [
    "# Setup Model"
   ]
  },
  {
   "cell_type": "code",
   "execution_count": 15,
   "id": "474103c7",
   "metadata": {},
   "outputs": [
    {
     "name": "stdout",
     "output_type": "stream",
     "text": [
      "WARNING:tensorflow:From C:\\Anaconda\\lib\\site-packages\\tensorflow_hub\\module_v2.py:126: The name tf.saved_model.load_v2 is deprecated. Please use tf.compat.v2.saved_model.load instead.\n",
      "\n"
     ]
    },
    {
     "name": "stderr",
     "output_type": "stream",
     "text": [
      "WARNING:tensorflow:From C:\\Anaconda\\lib\\site-packages\\tensorflow_hub\\module_v2.py:126: The name tf.saved_model.load_v2 is deprecated. Please use tf.compat.v2.saved_model.load instead.\n",
      "\n"
     ]
    }
   ],
   "source": [
    "module_handle = 'https://tfhub.dev/tensorflow/mask_rcnn/inception_resnet_v2_1024x1024/1'\n",
    "segmentation_model = hub.load(module_handle)"
   ]
  },
  {
   "cell_type": "markdown",
   "id": "7ca32ee7",
   "metadata": {},
   "source": [
    "# Real Time"
   ]
  },
  {
   "cell_type": "code",
   "execution_count": null,
   "id": "7c0bc37d",
   "metadata": {},
   "outputs": [],
   "source": [
    "cap = cv2.VideoCapture(0)\n",
    "while cap.isOpened():\n",
    "    ret, frame = cap.read()\n",
    "    \n",
    "    #Apply instance segmentation\n",
    "    res = segmentation_model.segmentFrame(frame, show_bboxes=True)\n",
    "    image = res[1]\n",
    "    \n",
    "    cv2.imshow(\"Instance Segmentation\", frame)\n",
    "    \n",
    "    if cv2.waitKey(1)&0xFF==ord('q'):\n",
    "        break\n",
    "        \n",
    "cap.release()\n",
    "cv2.destroyAllWindows()"
   ]
  },
  {
   "cell_type": "code",
   "execution_count": null,
   "id": "4ee0d02e",
   "metadata": {},
   "outputs": [],
   "source": []
  }
 ],
 "metadata": {
  "kernelspec": {
   "display_name": "Python 3 (ipykernel)",
   "language": "python",
   "name": "python3"
  },
  "language_info": {
   "codemirror_mode": {
    "name": "ipython",
    "version": 3
   },
   "file_extension": ".py",
   "mimetype": "text/x-python",
   "name": "python",
   "nbconvert_exporter": "python",
   "pygments_lexer": "ipython3",
   "version": "3.9.13"
  },
  "varInspector": {
   "cols": {
    "lenName": 16,
    "lenType": 16,
    "lenVar": 40
   },
   "kernels_config": {
    "python": {
     "delete_cmd_postfix": "",
     "delete_cmd_prefix": "del ",
     "library": "var_list.py",
     "varRefreshCmd": "print(var_dic_list())"
    },
    "r": {
     "delete_cmd_postfix": ") ",
     "delete_cmd_prefix": "rm(",
     "library": "var_list.r",
     "varRefreshCmd": "cat(var_dic_list()) "
    }
   },
   "types_to_exclude": [
    "module",
    "function",
    "builtin_function_or_method",
    "instance",
    "_Feature"
   ],
   "window_display": false
  }
 },
 "nbformat": 4,
 "nbformat_minor": 5
}
