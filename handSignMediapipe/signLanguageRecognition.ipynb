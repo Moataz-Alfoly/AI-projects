{
 "cells": [
  {
   "cell_type": "code",
   "execution_count": 1,
   "id": "4f4a0c6b",
   "metadata": {},
   "outputs": [],
   "source": [
    "import cv2\n",
    "import mediapipe as mp"
   ]
  },
  {
   "cell_type": "code",
   "execution_count": 2,
   "id": "b574dc07",
   "metadata": {},
   "outputs": [],
   "source": [
    "mp_hands = mp.solutions.hands\n",
    "hands = mp_hands.Hands()\n",
    "mp_draw = mp.solutions.drawing_utils\n",
    "cap = cv2.VideoCapture(0)"
   ]
  },
  {
   "cell_type": "code",
   "execution_count": 3,
   "id": "2954f440",
   "metadata": {},
   "outputs": [],
   "source": [
    "finger_tips = [8,12,16,20]\n",
    "thumb_tip = 4"
   ]
  },
  {
   "cell_type": "markdown",
   "id": "c86eb202",
   "metadata": {},
   "source": [
    "# Draw Hands \n",
    "<img src=https://i.imgur.com/qpRACer.png />"
   ]
  },
  {
   "cell_type": "code",
   "execution_count": null,
   "id": "b69b17e5",
   "metadata": {},
   "outputs": [],
   "source": [
    "while True:\n",
    "    ret, img = cap.read()\n",
    "    img = cv2.flip(img,1)\n",
    "    h, w, c = img.shape\n",
    "    results = hands.process(img)\n",
    "    \n",
    "    if results.multi_hand_landmarks:\n",
    "        for hand_landmark in results.multi_hand_landmarks:\n",
    "            lm_list=[]\n",
    "            for id,lm in enumerate(hand_landmark.landmark):\n",
    "                lm_list.appendp(lm)\n",
    "            finger_fold_status = []\n",
    "            for tip in finger_tips:\n",
    "                x,y = int(lm_list[tip].x*w),int(lm_list[tip].y*h)\n",
    "                if lm_list[tip].x < lm_list[tip-3].x:\n",
    "                    finger_fold_status.append(True)\n",
    "                else:\n",
    "                    finger_fold_status.append(False)\n",
    "            print(finger_fold_status)\n",
    "            \n",
    "            x,y=int(lm_list[8].x*w),int(lm_list[8].y*h)\n",
    "            print(x,y)\n",
    "            \n",
    "            if lm_list[4].y < lm_list[2].y and lm_list[8].y < lm_list[6].y and lm_list[12].y < lm_list[10].y and \\\n",
    "                    lm_list[16].y < lm_list[14].y and lm_list[20].y < lm_list[18].y and lm_list[17].x < lm_list[0].x < \\\n",
    "                    lm_list[5].x:\n",
    "                cv2.putText(img, \"STOP\", (20, 30), cv2.FONT_HERSHEY_SIMPLEX, 1, (0, 0, 255), 3)\n",
    "                print(\"STOP\")\n",
    "\n",
    "            \n",
    "            if lm_list[3].x > lm_list[4].x and lm_list[8].y < lm_list[6].y and lm_list[12].y > lm_list[10].y and \\\n",
    "                    lm_list[16].y > lm_list[14].y and lm_list[20].y > lm_list[18].y:\n",
    "                cv2.putText(img, \"FORWARD\", (20, 30), cv2.FONT_HERSHEY_SIMPLEX, 1, (0, 0, 255), 3)\n",
    "                print(\"FORWARD\")\n",
    "\n",
    "            \n",
    "            if lm_list[3].x > lm_list[4].x and lm_list[3].y < lm_list[4].y and lm_list[8].y > lm_list[6].y and lm_list[12].y < lm_list[10].y and \\\n",
    "                    lm_list[16].y < lm_list[14].y and lm_list[20].y < lm_list[18].y:\n",
    "                cv2.putText(img, \"BACKWARD\", (20, 30), cv2.FONT_HERSHEY_SIMPLEX, 1, (0, 0, 255), 3)\n",
    "                print(\"BACKWARD\")\n",
    "\n",
    "            \n",
    "            if lm_list[4].y < lm_list[2].y and lm_list[8].x < lm_list[6].x and lm_list[12].x > lm_list[10].x and \\\n",
    "                    lm_list[16].x > lm_list[14].x and lm_list[20].x > lm_list[18].x and lm_list[5].x < lm_list[0].x:\n",
    "                cv2.putText(img, \"LEFT\", (20, 30), cv2.FONT_HERSHEY_SIMPLEX, 1, (0, 0, 255), 3)\n",
    "                print(\"LEFT\")\n",
    "\n",
    "            \n",
    "            if lm_list[4].y < lm_list[2].y and lm_list[8].x > lm_list[6].x and lm_list[12].x < lm_list[10].x and \\\n",
    "                    lm_list[16].x < lm_list[14].x and lm_list[20].x < lm_list[18].x:\n",
    "                cv2.putText(img, \"RIGHT\", (20, 30), cv2.FONT_HERSHEY_SIMPLEX, 1, (0, 0, 255), 3)\n",
    "                print(\"RIGHT\")\n",
    "\n",
    "\n",
    "            if all(finger_fold_status):\n",
    "                \n",
    "                if lm_list[thumb_tip].y < lm_list[thumb_tip - 1].y < lm_list[thumb_tip - 2].y and lm_list[0].x < lm_list[3].y:\n",
    "                    print(\"LIKE\")\n",
    "                    cv2.putText(img, \"LIKE\", (20, 30), cv2.FONT_HERSHEY_SIMPLEX, 1, (0, 255, 0), 3)\n",
    "                    \n",
    "                if lm_list[thumb_tip].y > lm_list[thumb_tip - 1].y > lm_list[thumb_tip - 2].y and lm_list[0].x < lm_list[3].y:\n",
    "                    cv2.putText(img, \"DISLIKE\", (20, 30), cv2.FONT_HERSHEY_SIMPLEX, 1, (0, 0, 255), 3)\n",
    "                    print(\"DISLIKE\")\n",
    "            "
   ]
  },
  {
   "cell_type": "code",
   "execution_count": null,
   "id": "ec6ed550",
   "metadata": {},
   "outputs": [],
   "source": []
  },
  {
   "cell_type": "code",
   "execution_count": null,
   "id": "ac4c4497",
   "metadata": {},
   "outputs": [],
   "source": []
  }
 ],
 "metadata": {
  "kernelspec": {
   "display_name": "Python 3 (ipykernel)",
   "language": "python",
   "name": "python3"
  },
  "language_info": {
   "codemirror_mode": {
    "name": "ipython",
    "version": 3
   },
   "file_extension": ".py",
   "mimetype": "text/x-python",
   "name": "python",
   "nbconvert_exporter": "python",
   "pygments_lexer": "ipython3",
   "version": "3.9.13"
  },
  "varInspector": {
   "cols": {
    "lenName": 16,
    "lenType": 16,
    "lenVar": 40
   },
   "kernels_config": {
    "python": {
     "delete_cmd_postfix": "",
     "delete_cmd_prefix": "del ",
     "library": "var_list.py",
     "varRefreshCmd": "print(var_dic_list())"
    },
    "r": {
     "delete_cmd_postfix": ") ",
     "delete_cmd_prefix": "rm(",
     "library": "var_list.r",
     "varRefreshCmd": "cat(var_dic_list()) "
    }
   },
   "types_to_exclude": [
    "module",
    "function",
    "builtin_function_or_method",
    "instance",
    "_Feature"
   ],
   "window_display": false
  }
 },
 "nbformat": 4,
 "nbformat_minor": 5
}
